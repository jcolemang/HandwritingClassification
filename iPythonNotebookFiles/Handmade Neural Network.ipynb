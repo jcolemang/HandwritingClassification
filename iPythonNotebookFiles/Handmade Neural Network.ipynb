{
 "cells": [
  {
   "cell_type": "markdown",
   "metadata": {},
   "source": [
    "# Neural Network Implementation\n",
    "\n",
    "The following is a 2-layer neural network implementation that creates a model for the XOR of the first two inputs.\n",
    "\n",
    "Source of base code: http://iamtrask.github.io/2015/07/12/basic-python-network/"
   ]
  },
  {
   "cell_type": "code",
   "execution_count": 1,
   "metadata": {
    "collapsed": false,
    "scrolled": true
   },
   "outputs": [
    {
     "name": "stdout",
     "output_type": "stream",
     "text": [
      "Error:0.496410031903\n",
      "Error:0.00858452565325\n",
      "Error:0.00578945986251\n",
      "Error:0.00462917677677\n",
      "Error:0.00395876528027\n",
      "Error:0.00351012256786\n"
     ]
    }
   ],
   "source": [
    "import numpy as np\n",
    "\n",
    "# sigmoid function\n",
    "def sigmoid(x,deriv=False):\n",
    "    if(deriv==True):\n",
    "        return x*(1-x)\n",
    "    return 1/(1+np.exp(-x))\n",
    "    \n",
    "# input dataset\n",
    "train_data = np.array([ [0,0,1],\n",
    "                        [0,1,1],\n",
    "                        [1,0,1],\n",
    "                        [1,1,1] ])\n",
    "\n",
    "ERROR_THRESHOLD = 0.005\n",
    "    \n",
    "# output dataset            \n",
    "train_target = np.array([[0],\n",
    "                         [1],\n",
    "                         [1],\n",
    "                         [0]])\n",
    "\n",
    "# seed random numbers to make calculation\n",
    "# deterministic (just a good practice)\n",
    "np.random.seed(1)\n",
    "\n",
    "# initialize weights randomly with mean 0\n",
    "syanpse_0 = 2*np.random.random((3,4)) - 1\n",
    "syanpse_1 = 2*np.random.random((4,1)) - 1\n",
    "\n",
    "# iterate many times with backpropogation\n",
    "for j in xrange(60000):\n",
    "\n",
    "    # forward propagation\n",
    "    input_layer = train_data\n",
    "    hidden_layer = sigmoid(np.dot(input_layer,syanpse_0))\n",
    "    output_layer = sigmoid(np.dot(hidden_layer,syanpse_1))\n",
    "\n",
    "    # how much did we miss?\n",
    "    output_layer_error = train_target - output_layer\n",
    "\n",
    "    if (j% 10000) == 0:\n",
    "        print \"Error:\" + str(np.mean(np.abs(output_layer_error)))\n",
    "    \n",
    "    # end iteration once error approaches threshold\n",
    "    #max_error = np.max(np.abs(output_layer_error))\n",
    "    #if max_error <= ERROR_THRESHOLD: break\n",
    "    \n",
    "    # in what direction is the target value?\n",
    "    # were we really sure? if so, don't change too much.\n",
    "    output_layer_delta = output_layer_error*sigmoid(output_layer,deriv=True)\n",
    "    \n",
    "    hidden_layer_error = output_layer_delta.dot(syanpse_1.T)\n",
    "    \n",
    "    # multiply how much we missed by the \n",
    "    # slope of the sigmoid at the values in l1\n",
    "    hidden_layer_delta = hidden_layer_error * sigmoid(hidden_layer,True)\n",
    "\n",
    "    # update weights\n",
    "    syanpse_1 += hidden_layer.T.dot(output_layer_delta)\n",
    "    syanpse_0 += input_layer.T.dot(hidden_layer_delta)\n",
    "    \n",
    "def pred(input):\n",
    "    hidden = sigmoid(np.dot(input,syanpse_0))\n",
    "    output = sigmoid(np.dot(hidden,syanpse_1))\n",
    "    return output"
   ]
  },
  {
   "cell_type": "code",
   "execution_count": 2,
   "metadata": {
    "collapsed": false
   },
   "outputs": [
    {
     "data": {
      "text/plain": [
       "array([[ 0.00676682],\n",
       "       [ 0.24190494]])"
      ]
     },
     "execution_count": 2,
     "metadata": {},
     "output_type": "execute_result"
    }
   ],
   "source": [
    "# Test the model on different cases (Expected output should be [0,0])\n",
    "pred([[1,1,0], [0,0,0]])"
   ]
  },
  {
   "cell_type": "markdown",
   "metadata": {},
   "source": [
    "\n",
    "# Application to MINST Problem\n",
    "\n",
    "In the following, I attempt to create a three-layer network for use in solving the MINST problem.\n",
    "\n",
    "This does not yet work.\n",
    "\n",
    "MINST Data from: https://www.kaggle.com/c/digit-recognizer"
   ]
  },
  {
   "cell_type": "code",
   "execution_count": 3,
   "metadata": {
    "collapsed": true
   },
   "outputs": [],
   "source": [
    "import pandas as pd\n",
    "import numpy as np\n",
    "\n",
    "from sklearn.metrics import accuracy_score\n",
    "from sklearn import cross_validation\n",
    "#from sklearn.ensemble import RandomForestClassifier\n",
    "#from sklearn.neural_network import MLPClassifier\n",
    "\n",
    "import matplotlib.pyplot as plt\n",
    "import matplotlib\n",
    "matplotlib.style.use('ggplot')\n",
    "%matplotlib inline"
   ]
  },
  {
   "cell_type": "code",
   "execution_count": 4,
   "metadata": {
    "collapsed": false
   },
   "outputs": [],
   "source": [
    "#Retrieve the test data from the filesystem\n",
    "data = pd.read_csv(\"Kaggle Competition MINST train.csv\")\n",
    "target = data['label']\n",
    "data = data.drop('label', axis=1)\n",
    "\n",
    "num_attributes = len(data.columns)\n",
    "\n",
    "# Split the training data so that I can analyze testing error\n",
    "train_data, test_data, train_target, test_target = cross_validation.train_test_split(\n",
    " data, target, test_size=0.99, random_state=0)"
   ]
  },
  {
   "cell_type": "code",
   "execution_count": 5,
   "metadata": {
    "collapsed": false,
    "scrolled": true
   },
   "outputs": [
    {
     "name": "stdout",
     "output_type": "stream",
     "text": [
      "[[ 0.1]\n",
      " [ 0. ]\n",
      " [ 0.1]\n",
      " [ 0.4]\n",
      " [ 0. ]\n",
      " [ 0. ]\n",
      " [ 0.7]\n",
      " [ 0.3]\n",
      " [ 0.5]\n",
      " [ 0.3]\n",
      " [ 0.8]]\n"
     ]
    }
   ],
   "source": [
    "test_example = np.array(data.div(255).loc[0:10])\n",
    "target_example = np.array(target.to_frame().div(10).loc[0:10])\n",
    "print target_example"
   ]
  },
  {
   "cell_type": "code",
   "execution_count": 6,
   "metadata": {
    "collapsed": false,
    "scrolled": true
   },
   "outputs": [
    {
     "ename": "ValueError",
     "evalue": "operands could not be broadcast together with shapes (11,392) (784,392) ",
     "output_type": "error",
     "traceback": [
      "\u001b[1;31m---------------------------------------------------------------------------\u001b[0m",
      "\u001b[1;31mValueError\u001b[0m                                Traceback (most recent call last)",
      "\u001b[1;32m<ipython-input-6-bb622bfb0ce9>\u001b[0m in \u001b[0;36m<module>\u001b[1;34m()\u001b[0m\n\u001b[0;32m     15\u001b[0m     \u001b[0ml3_delta\u001b[0m \u001b[1;33m=\u001b[0m \u001b[1;33m(\u001b[0m\u001b[0my\u001b[0m \u001b[1;33m-\u001b[0m \u001b[0ml3\u001b[0m\u001b[1;33m)\u001b[0m\u001b[1;33m*\u001b[0m\u001b[1;33m(\u001b[0m\u001b[0ml3\u001b[0m\u001b[1;33m*\u001b[0m\u001b[1;33m(\u001b[0m\u001b[1;36m1\u001b[0m\u001b[1;33m-\u001b[0m\u001b[0ml3\u001b[0m\u001b[1;33m)\u001b[0m\u001b[1;33m)\u001b[0m\u001b[1;33m\u001b[0m\u001b[0m\n\u001b[0;32m     16\u001b[0m     \u001b[0ml2_delta\u001b[0m \u001b[1;33m=\u001b[0m \u001b[0ml3_delta\u001b[0m\u001b[1;33m*\u001b[0m\u001b[1;33m(\u001b[0m\u001b[0msyn2\u001b[0m\u001b[1;33m.\u001b[0m\u001b[0mT\u001b[0m\u001b[1;33m)\u001b[0m \u001b[1;33m*\u001b[0m \u001b[1;33m(\u001b[0m\u001b[0ml2\u001b[0m \u001b[1;33m*\u001b[0m \u001b[1;33m(\u001b[0m\u001b[1;36m1\u001b[0m\u001b[1;33m-\u001b[0m\u001b[0ml2\u001b[0m\u001b[1;33m)\u001b[0m\u001b[1;33m)\u001b[0m\u001b[1;33m\u001b[0m\u001b[0m\n\u001b[1;32m---> 17\u001b[1;33m     \u001b[0ml1_delta\u001b[0m \u001b[1;33m=\u001b[0m \u001b[0ml2_delta\u001b[0m\u001b[1;33m*\u001b[0m\u001b[1;33m(\u001b[0m\u001b[0msyn1\u001b[0m\u001b[1;33m)\u001b[0m \u001b[1;33m*\u001b[0m \u001b[1;33m(\u001b[0m\u001b[0ml1\u001b[0m \u001b[1;33m*\u001b[0m \u001b[1;33m(\u001b[0m\u001b[1;36m1\u001b[0m\u001b[1;33m-\u001b[0m\u001b[0ml1\u001b[0m\u001b[1;33m)\u001b[0m\u001b[1;33m)\u001b[0m\u001b[1;33m\u001b[0m\u001b[0m\n\u001b[0m\u001b[0;32m     18\u001b[0m \u001b[1;33m\u001b[0m\u001b[0m\n\u001b[0;32m     19\u001b[0m     \u001b[1;31m#syn2 += l2.T.dot(l3_delta)\u001b[0m\u001b[1;33m\u001b[0m\u001b[1;33m\u001b[0m\u001b[0m\n",
      "\u001b[1;31mValueError\u001b[0m: operands could not be broadcast together with shapes (11,392) (784,392) "
     ]
    }
   ],
   "source": [
    "# Create and train the neural network\n",
    "X = test_example\n",
    "y = target_example\n",
    "\n",
    "#np.random.seed(1)\n",
    "\n",
    "syn0 = 2*np.random.random((num_attributes, num_attributes)) - 1\n",
    "syn1 = 2*np.random.random((num_attributes, num_attributes/2)) - 1\n",
    "syn2 = 2*np.random.random((num_attributes/2,1)) - 1\n",
    "for j in xrange(5):\n",
    "    l1 = 1/(1+np.exp(-(np.dot(X,syn0))))\n",
    "    l2 = 1/(1+np.exp(-(np.dot(l1,syn1))))\n",
    "    l3 = 1/(1+np.exp(-(np.dot(l2,syn2))))\n",
    "    \n",
    "    l3_delta = (y - l3)*(l3*(1-l3))\n",
    "    l2_delta = l3_delta*(syn2.T) * (l2 * (1-l2))\n",
    "    l1_delta = l2_delta*(syn1) * (l1 * (1-l1))\n",
    "    \n",
    "    #syn2 += l2.T.dot(l3_delta)\n",
    "    #syn1 += l1.T.dot(l2_delta)\n",
    "    #syn0 += X.T.dot(l1_delta)\n",
    "    \n",
    "def pred(input):\n",
    "    l1 = 1/(1+np.exp(-(np.dot(input,syn0))))\n",
    "    l2 = 1/(1+np.exp(-(np.dot(l1,syn1))))\n",
    "    return l2"
   ]
  },
  {
   "cell_type": "code",
   "execution_count": null,
   "metadata": {
    "collapsed": false
   },
   "outputs": [],
   "source": [
    "\n",
    "\n",
    "print pred(test_example)\n",
    "print target_example"
   ]
  },
  {
   "cell_type": "code",
   "execution_count": null,
   "metadata": {
    "collapsed": false
   },
   "outputs": [],
   "source": [
    "X = np.array([ [0,0,1],[0,1,1],[1,0,1],[1,1,1] ])\n",
    "y = np.array([[0,1,1,0]]).T\n",
    "syn0 = 2*np.random.random((3,4)) - 1\n",
    "syn1 = 2*np.random.random((4,1)) - 1\n",
    "for j in xrange(60000):\n",
    "    l1 = 1/(1+np.exp(-(np.dot(X,syn0))))\n",
    "    l2 = 1/(1+np.exp(-(np.dot(l1,syn1))))\n",
    "    l2_delta = (y - l2)*(l2*(1-l2))\n",
    "    l1_delta = l2_delta.dot(syn1.T) * (l1 * (1-l1))\n",
    "    syn1 += l1.T.dot(l2_delta)\n",
    "    syn0 += X.T.dot(l1_delta)\n",
    "print y"
   ]
  },
  {
   "cell_type": "code",
   "execution_count": null,
   "metadata": {
    "collapsed": true
   },
   "outputs": [],
   "source": []
  }
 ],
 "metadata": {
  "kernelspec": {
   "display_name": "Python 2",
   "language": "python",
   "name": "python2"
  },
  "language_info": {
   "codemirror_mode": {
    "name": "ipython",
    "version": 2
   },
   "file_extension": ".py",
   "mimetype": "text/x-python",
   "name": "python",
   "nbconvert_exporter": "python",
   "pygments_lexer": "ipython2",
   "version": "2.7.11"
  }
 },
 "nbformat": 4,
 "nbformat_minor": 0
}
